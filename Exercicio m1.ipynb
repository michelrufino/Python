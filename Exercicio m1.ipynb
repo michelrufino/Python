{
 "cells": [
  {
   "cell_type": "markdown",
   "metadata": {},
   "source": [
    "Crie um programa que imprima (print) os principais indicadores da Loja Hashtag&Drink no ultimo ano.<br><br>\n",
    "Valores do ultimo ano"
   ]
  },
  {
   "cell_type": "code",
   "execution_count": 11,
   "metadata": {},
   "outputs": [],
   "source": [
    "qtde_vendascoca = 150\n",
    "preco_coca = 1.50\n",
    "qtde_vendaspsi = 130\n",
    "preco_pepsi = 1.50\n",
    "custo_loja = 2500"
   ]
  },
  {
   "cell_type": "code",
   "execution_count": 7,
   "metadata": {},
   "outputs": [
    {
     "name": "stdout",
     "output_type": "stream",
     "text": [
      "225.0\n"
     ]
    }
   ],
   "source": [
    "# Qual foi o faturamento da Coca da Loja?\n",
    "print(qtde_vendascoca * preco_coca)"
   ]
  },
  {
   "cell_type": "code",
   "execution_count": 5,
   "metadata": {},
   "outputs": [],
   "source": [
    "# Quantidade de venda de Coca\n",
    "qtde_vendascoca = 150\n",
    "preco_coca = 1.50"
   ]
  },
  {
   "cell_type": "code",
   "execution_count": 4,
   "metadata": {},
   "outputs": [],
   "source": [
    "#Quantidade de venda de Pepsi\n",
    "qtde_vendaspsi = 130\n",
    "preco_pepsi = 1.50"
   ]
  },
  {
   "cell_type": "code",
   "execution_count": 9,
   "metadata": {},
   "outputs": [
    {
     "name": "stdout",
     "output_type": "stream",
     "text": [
      "195.0\n"
     ]
    }
   ],
   "source": [
    "# Qual foi o faturamento da Pepsi da Loja?\n",
    "print(qtde_vendaspsi * preco_pepsi)"
   ]
  },
  {
   "cell_type": "code",
   "execution_count": 12,
   "metadata": {},
   "outputs": [
    {
     "name": "stdout",
     "output_type": "stream",
     "text": [
      "-2080.0\n"
     ]
    }
   ],
   "source": [
    "#Custo da Loja \n",
    "faturamento = qtde_vendascoca * preco_coca + qtde_vendaspsi * preco_pepsi\n",
    "lucro = faturamento - custo_loja\n",
    "print(lucro)"
   ]
  },
  {
   "cell_type": "code",
   "execution_count": 13,
   "metadata": {},
   "outputs": [
    {
     "name": "stdout",
     "output_type": "stream",
     "text": [
      "-4.9523809523809526\n"
     ]
    }
   ],
   "source": [
    "# Qual foi a margem da loja? Lembre-se margem = lucro / faturamento) não precisa em percetual\n",
    "print(lucro / faturamento)"
   ]
  },
  {
   "cell_type": "markdown",
   "metadata": {},
   "source": [
    "Hashtag&Drink - Verificar Codigo\n"
   ]
  },
  {
   "cell_type": "code",
   "execution_count": 1,
   "metadata": {},
   "outputs": [
    {
     "name": "stdout",
     "output_type": "stream",
     "text": [
      "True\n"
     ]
    }
   ],
   "source": [
    "cod_bebida = input('Digite o Codigo da Bebida')\n",
    "print(\"BAC\" in cod_bebida)\n",
    "\n"
   ]
  }
 ],
 "metadata": {
  "kernelspec": {
   "display_name": "Python 3",
   "language": "python",
   "name": "python3"
  },
  "language_info": {
   "codemirror_mode": {
    "name": "ipython",
    "version": 3
   },
   "file_extension": ".py",
   "mimetype": "text/x-python",
   "name": "python",
   "nbconvert_exporter": "python",
   "pygments_lexer": "ipython3",
   "version": "3.12.4"
  }
 },
 "nbformat": 4,
 "nbformat_minor": 2
}
